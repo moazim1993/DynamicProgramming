{
 "cells": [
  {
   "cell_type": "markdown",
   "id": "96655a32",
   "metadata": {},
   "source": [
    "# Dynamic Programming\n",
    "\n",
    "Based on this free course, https://www.youtube.com/watch?v=oBt53YbR9Kk&list=PLj_dto2iVEP6eWSYjbBzhFccqy4u2HO52&index=5&t=15s\n",
    "\n",
    "Original video is in javascript, I'll be doing it in python\n"
   ]
  },
  {
   "cell_type": "markdown",
   "id": "1c807a48",
   "metadata": {},
   "source": [
    "### Fibonacchi Sequence\n",
    "\n",
    "- fib(n): 0 1 2 3 4 5 6  7\n",
    "\n",
    "- n: 1 1 2 3 5 8 13 21\n"
   ]
  },
  {
   "cell_type": "code",
   "execution_count": 2,
   "id": "d294b4ec",
   "metadata": {},
   "outputs": [
    {
     "data": {
      "text/plain": [
       "13"
      ]
     },
     "execution_count": 2,
     "metadata": {},
     "output_type": "execute_result"
    }
   ],
   "source": [
    "# Recursive fibbonachi\n",
    "\n",
    "def fib(n):\n",
    "    if n < 2:\n",
    "        return 1\n",
    "    else:\n",
    "        return fib(n-1) + fib(n-2)\n",
    "    \n",
    "fib(6)"
   ]
  },
  {
   "cell_type": "markdown",
   "id": "fbc9dfa9",
   "metadata": {},
   "source": [
    "fib(7) -> 13\n",
    "\n",
    "                  (6)   will branch into fib(5) and fib(4)\n",
    "          (5)              (4)\n",
    "         (4)           (3)       (3)     (2)\n",
    "      (3)   (2)    (2)    (1)  (2) (1) (1) (0)\n",
    "    (2)(1) (1)(0) (1)(0)     (1)(0)\n",
    " (0)(1)\n",
    " \n",
    " \n",
    " above is the tree structure of the recursive call (base cases) < 2 return 1\n",
    " \n",
    " recursive fib implimentation runs in 2^n time complexity\n",
    " \n",
    " whats the space complexity?"
   ]
  },
  {
   "cell_type": "code",
   "execution_count": 3,
   "id": "f4aeb1a0",
   "metadata": {},
   "outputs": [
    {
     "name": "stdout",
     "output_type": "stream",
     "text": [
      "None\n",
      "None\n"
     ]
    }
   ],
   "source": [
    "def foo(n):\n",
    "    if n < 2:\n",
    "        return None\n",
    "    else:\n",
    "        return foo(n-1)\n",
    "\n",
    "\n",
    "def bar(n):\n",
    "    if n < 2:\n",
    "        return None\n",
    "    else:\n",
    "        return bar(n-2)\n",
    "\n",
    "print(foo(5))\n",
    "print(bar(5))"
   ]
  },
  {
   "cell_type": "markdown",
   "id": "c717f93b",
   "metadata": {},
   "source": [
    "Lets compare the difference is space and time complexity\n",
    "\n",
    "foo(5) -> foo(4) -> foo(3) -> foo(2)->foo(1)->None\n",
    "- The time complexity is O(n) it checks an if statement each foo call\n",
    "- The space complexity is also O(n) for each recursive call the value is added to stack\n",
    "\n",
    "bar(5)->bar(3)->bar(1)->None\n",
    "- this moves twice as fast, so you may want to say its n/2, but in big O notation we ignore multiplicative constants so its O(n)\n",
    "- same for space O(n)"
   ]
  },
  {
   "cell_type": "markdown",
   "id": "a726b0c3",
   "metadata": {},
   "source": [
    "#### Space complexity of a recursive function\n",
    "\n",
    "For fib, we know the time complexity is 2^n, this is because there are 2 fib calls each time and it calls for n times until it gets to the base case.\n",
    "\n",
    "For space, its a bit different, it's O(n). Although the computaion for each loop doubles, the number of vars stored occures one at a time. So at each base case, it'll calculate, roll up the result to the node above, then evaluate the next.\n",
    "\n",
    "For a modest 50th element of fib 2^50~1,125,899,900,000,000 steps. Can we imporve on it?\n",
    "- There are many duplicates, fib(2) is called 5 times in fib(6) call above\n",
    "- fib(3) is called 3 times\n",
    "- fib(4) is called twice\n",
    "\n",
    "can we reuse fib(2), fib(3), fib(4)?\n",
    "\n",
    "This pattern of overlapping subproblems is perfect for `Dynamic Programming`\n",
    "   - for any instance where we have a large problem, we want to decompose it to smaller instances of the same problem.\n",
    "   - for this we need to have an overlapping structure"
   ]
  },
  {
   "cell_type": "markdown",
   "id": "71737d1a",
   "metadata": {},
   "source": [
    "## 1. Memoization\n",
    "\n",
    " - save intermedeary values between recursive calls is a hashtable like object (object type in js, dict in python)"
   ]
  },
  {
   "cell_type": "code",
   "execution_count": 18,
   "id": "40ce4e91",
   "metadata": {},
   "outputs": [
    {
     "data": {
      "text/plain": [
       "13"
      ]
     },
     "execution_count": 18,
     "metadata": {},
     "output_type": "execute_result"
    }
   ],
   "source": [
    "# dynamic solutiuon\n",
    "# momoization\n",
    "def fib2(n, memo = {}):\n",
    "    if n in memo.keys():\n",
    "        return memo[n]\n",
    "    if n < 2:\n",
    "        return 1\n",
    "    else:\n",
    "        memo[n] = fib(n-1, memo) + fib(n-2, memo)\n",
    "        return memo[n]\n",
    "    \n",
    "fib2(6)"
   ]
  },
  {
   "cell_type": "code",
   "execution_count": 31,
   "id": "5fe04602",
   "metadata": {},
   "outputs": [
    {
     "data": {
      "text/plain": [
       "3983206532963909120418404757324525361518628307077248076132424727688912059360140985766913457277311357354018072741855874826116981382251922695786329432008306749"
      ]
     },
     "execution_count": 31,
     "metadata": {},
     "output_type": "execute_result"
    }
   ],
   "source": [
    "fib(750)"
   ]
  },
  {
   "cell_type": "code",
   "execution_count": 32,
   "id": "7a00b2a5",
   "metadata": {},
   "outputs": [
    {
     "data": {
      "text/plain": [
       "3983206532963909120418404757324525361518628307077248076132424727688912059360140985766913457277311357354018072741855874826116981382251922695786329432008306749"
      ]
     },
     "execution_count": 32,
     "metadata": {},
     "output_type": "execute_result"
    }
   ],
   "source": [
    "fib2(750)"
   ]
  },
  {
   "cell_type": "markdown",
   "id": "2ce72a79",
   "metadata": {},
   "source": [
    "## 2. Tabulation"
   ]
  },
  {
   "cell_type": "code",
   "execution_count": null,
   "id": "afb9d062",
   "metadata": {},
   "outputs": [],
   "source": []
  }
 ],
 "metadata": {
  "kernelspec": {
   "display_name": "Python 3",
   "language": "python",
   "name": "python3"
  },
  "language_info": {
   "codemirror_mode": {
    "name": "ipython",
    "version": 3
   },
   "file_extension": ".py",
   "mimetype": "text/x-python",
   "name": "python",
   "nbconvert_exporter": "python",
   "pygments_lexer": "ipython3",
   "version": "3.8.8"
  }
 },
 "nbformat": 4,
 "nbformat_minor": 5
}
