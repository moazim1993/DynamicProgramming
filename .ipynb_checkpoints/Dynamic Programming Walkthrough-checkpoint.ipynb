{
 "cells": [
  {
   "cell_type": "markdown",
   "id": "96655a32",
   "metadata": {},
   "source": [
    "# Dynamic Programming\n",
    "\n",
    "Based on this free course, https://www.youtube.com/watch?v=oBt53YbR9Kk&list=PLj_dto2iVEP6eWSYjbBzhFccqy4u2HO52&index=5&t=15s\n",
    "\n",
    "Original video is in javascript, I'll be doing it in python\n"
   ]
  },
  {
   "cell_type": "markdown",
   "id": "1c807a48",
   "metadata": {},
   "source": [
    "### Fibonacchi Sequence\n",
    "\n",
    "- fib(n): 0 1 2 3 4 5 6  7\n",
    "\n",
    "- n: 1 1 2 3 5 8 13 21\n"
   ]
  },
  {
   "cell_type": "code",
   "execution_count": 1,
   "id": "d294b4ec",
   "metadata": {},
   "outputs": [
    {
     "data": {
      "text/plain": [
       "13"
      ]
     },
     "execution_count": 1,
     "metadata": {},
     "output_type": "execute_result"
    }
   ],
   "source": [
    "# Recursive fibbonachi\n",
    "\n",
    "def fib(n):\n",
    "    if n < 2:\n",
    "        return 1\n",
    "    else:\n",
    "        return fib(n-1) + fib(n-2)\n",
    "    \n",
    "fib(6)"
   ]
  },
  {
   "cell_type": "markdown",
   "id": "fbc9dfa9",
   "metadata": {},
   "source": [
    "fib(7) -> 13\n",
    "\n",
    "                  (6)   will branch into fib(5) and fib(4)\n",
    "          (5)              (4)\n",
    "         (4)           (3)       (3)     (2)\n",
    "      (3)   (2)    (2)    (1)  (2) (1) (1) (0)\n",
    "    (2)(1) (1)(0) (1)(0)     (1)(0)\n",
    " (0)(1)\n",
    " \n",
    " \n",
    " above is the tree structure of the recursive call (base cases) < 2 return 1\n",
    " \n",
    " recursive fib implimentation runs in 2^n time complexity\n",
    " \n",
    " whats the space complexity?"
   ]
  },
  {
   "cell_type": "code",
   "execution_count": 2,
   "id": "f4aeb1a0",
   "metadata": {},
   "outputs": [
    {
     "name": "stdout",
     "output_type": "stream",
     "text": [
      "None\n",
      "None\n"
     ]
    }
   ],
   "source": [
    "def foo(n):\n",
    "    if n < 2:\n",
    "        return None\n",
    "    else:\n",
    "        return foo(n-1)\n",
    "\n",
    "\n",
    "def bar(n):\n",
    "    if n < 2:\n",
    "        return None\n",
    "    else:\n",
    "        return bar(n-2)\n",
    "\n",
    "print(foo(5))\n",
    "print(bar(5))"
   ]
  },
  {
   "cell_type": "markdown",
   "id": "c717f93b",
   "metadata": {},
   "source": [
    "Lets compare the difference is space and time complexity\n",
    "\n",
    "foo(5) -> foo(4) -> foo(3) -> foo(2)->foo(1)->None\n",
    "- The time complexity is O(n) it checks an if statement each foo call\n",
    "- The space complexity is also O(n) for each recursive call the value is added to stack\n",
    "\n",
    "bar(5)->bar(3)->bar(1)->None\n",
    "- this moves twice as fast, so you may want to say its n/2, but in big O notation we ignore multiplicative constants so its O(n)\n",
    "- same for space O(n)"
   ]
  },
  {
   "cell_type": "markdown",
   "id": "a726b0c3",
   "metadata": {},
   "source": [
    "#### Space complexity of a recursive function\n",
    "\n",
    "For fib, we know the time complexity is 2^n, this is because there are 2 fib calls each time and it calls for n times until it gets to the base case.\n",
    "\n",
    "For space, its a bit different, it's O(n). Although the computaion for each loop doubles, the number of vars stored occures one at a time. So at each base case, it'll calculate, roll up the result to the node above, then evaluate the next.\n",
    "\n",
    "For a modest 50th element of fib 2^50~1,125,899,900,000,000 steps. Can we imporve on it?\n",
    "- There are many duplicates, fib(2) is called 5 times in fib(6) call above\n",
    "- fib(3) is called 3 times\n",
    "- fib(4) is called twice\n",
    "\n",
    "can we reuse fib(2), fib(3), fib(4)?\n",
    "\n",
    "This pattern of overlapping subproblems is perfect for `Dynamic Programming`\n",
    "   - for any instance where we have a large problem, we want to decompose it to smaller instances of the same problem.\n",
    "   - for this we need to have an overlapping structure"
   ]
  },
  {
   "cell_type": "markdown",
   "id": "71737d1a",
   "metadata": {},
   "source": [
    "## 1. Memoization\n",
    "\n",
    " - save intermedeary values between recursive calls is a hashtable like object (object type in js, dict in python)"
   ]
  },
  {
   "cell_type": "code",
   "execution_count": 3,
   "id": "40ce4e91",
   "metadata": {},
   "outputs": [
    {
     "data": {
      "text/plain": [
       "13"
      ]
     },
     "execution_count": 3,
     "metadata": {},
     "output_type": "execute_result"
    }
   ],
   "source": [
    "# dynamic solutiuon\n",
    "# momoization\n",
    "def fib2(n, memo = {}):\n",
    "    if n in memo.keys():\n",
    "        return memo[n]\n",
    "    if n < 2:\n",
    "        return 1\n",
    "    else:\n",
    "        memo[n] = fib2(n-1, memo) + fib2(n-2, memo)\n",
    "        return memo[n]\n",
    "    \n",
    "fib2(6)"
   ]
  },
  {
   "cell_type": "code",
   "execution_count": 4,
   "id": "b266b340",
   "metadata": {},
   "outputs": [],
   "source": [
    "from time import process_time"
   ]
  },
  {
   "cell_type": "code",
   "execution_count": 5,
   "id": "5fe04602",
   "metadata": {},
   "outputs": [
    {
     "name": "stdout",
     "output_type": "stream",
     "text": [
      "14930352\n",
      "2.765625\n"
     ]
    }
   ],
   "source": [
    "t1 = process_time()\n",
    "print(fib(35))\n",
    "t2 = process_time()\n",
    "print(t2 - t1)"
   ]
  },
  {
   "cell_type": "code",
   "execution_count": 6,
   "id": "7a00b2a5",
   "metadata": {},
   "outputs": [
    {
     "name": "stdout",
     "output_type": "stream",
     "text": [
      "14930352\n",
      "0.0\n"
     ]
    }
   ],
   "source": [
    "t1 = process_time()\n",
    "print(fib2(35))\n",
    "t2 = process_time()\n",
    "print(t2 - t1)"
   ]
  },
  {
   "cell_type": "markdown",
   "id": "28dfe594",
   "metadata": {},
   "source": [
    "You can see the improvement in process time\n",
    "\n",
    "For the memoized version of fib(6) we go down the first branch depth\n",
    "\n",
    "fib(6) -> fib(5) -> fib(4) -> fib(3) -> fib(2) -> fib(1) and fib(0) -> returns 1\n",
    "\n",
    "then 0 and 1 is added to mem key {0: 1, 1: 1}\n",
    "\n",
    "then fib(2) = 1+1 and added to mem {0: 1, 1: 1, 2:2}\n",
    "\n",
    "then for fib(3) it evaluates fib(2) which already retruned 2 and then fib(1) which we know is 1 from the mem dict\n",
    "\n",
    "It then addes 3 to mem {0: 1, 1: 1, 2:2, 3:3}\n",
    "\n",
    "Rolls up to fib(4) which retruns fib(3) = 3, then adds fib 2 which we have in mem as 2\n",
    "\n",
    "Then adds to mem {0: 1, 1: 1, 2:2, 3:3, 4:5}\n",
    "\n",
    "...\n",
    "\n",
    "This ends up being the root depth of n + n-1 for the second recursive call minus the top call of fib(6)\n",
    "\n",
    "n+n-1 = O(n)"
   ]
  },
  {
   "cell_type": "markdown",
   "id": "66fd3fe8",
   "metadata": {},
   "source": [
    "### Grid Traveler\n",
    "Given an n by m grid, how many ways can you travel from the top left corner to bottom right if you can only go right and down.\n",
    "\n",
    "\n",
    "Base cases: \n",
    "\n",
    "Given an 3x2 grid, start at S and end at E\n",
    "\n",
    "     [S][ ][ ]      \n",
    "     [ ][ ][E]\n",
    "     \n",
    "There are 3 options:\n",
    "   - r (right) -> r -> b (bottom)\n",
    "   - r -> b -> r\n",
    "   - b -> r -> r\n",
    "\n",
    "Given an 2x2 grid, start at S and end at E\n",
    "\n",
    "     [S][ ]      \n",
    "     [ ][E]\n",
    "     \n",
    "There are 2 options:\n",
    "   - r -> b\n",
    "   - b -> r\n",
    "\n",
    "what about a 1x1 grid?\n",
    "\n",
    "    [ ]\n",
    "\n",
    "1 option :\n",
    "- nothing, you are there\n",
    "\n",
    "What about 0xn, or mx0?\n",
    "\n",
    "0 options :\n",
    "- the grid is invalid\n",
    "\n",
    "\n",
    "3x3 grid?\n",
    "\n",
    "    [S][ ][ ]\n",
    "    [ ][ ][ ]\n",
    "    [ ][ ][E]\n",
    "\n",
    "Can we find an over lapping structure to divide this into subproblems?\n",
    "- At S we have 2 options, r and b.\n",
    "    - if we go to b, our remaining allowable space is 2x3 from the problem above:\n",
    "\n",
    "\n",
    "    [S][ ][ ]\n",
    "    [ ][ ][E]\n",
    "\n",
    "    - We know the answer to this is 3\n",
    "    - We are left again with 2 choices, r and b:\n",
    "        - lets go to r\n",
    "     [S][ ]      \n",
    "     [ ][E]\n",
    "     \n",
    "    - we see that again its from an example above. r -> b, and b -> r\n",
    "    \n",
    "Tree Visualization\n",
    "\n",
    "                            (2,3)\n",
    "                     (1,3)        (2,2)\n",
    "                       (1,2)   (1,2)    (2,1)\n",
    "                         (1,1)  (1,1) (1,1)\n",
    "\n",
    "We cut off the childs at nodes at (1,1) since that indicates the end"
   ]
  },
  {
   "cell_type": "code",
   "execution_count": 7,
   "id": "04a91eeb",
   "metadata": {},
   "outputs": [
    {
     "name": "stdout",
     "output_type": "stream",
     "text": [
      "1\n",
      "3\n",
      "3\n",
      "6\n"
     ]
    }
   ],
   "source": [
    "def gridTraveler(m,n):\n",
    "    if m == 0 or n == 0:\n",
    "        return 0\n",
    "    elif m == 1 and n == 1:\n",
    "        return 1\n",
    "    else:\n",
    "        \n",
    "        return gridTraveler(m-1,n) + gridTraveler(m,n-1)\n",
    "\n",
    "\n",
    "print(gridTraveler(1,1))\n",
    "print(gridTraveler(2,3))\n",
    "print(gridTraveler(3,2))\n",
    "print(gridTraveler(3,3))\n"
   ]
  },
  {
   "cell_type": "code",
   "execution_count": 8,
   "id": "01e659f0",
   "metadata": {},
   "outputs": [
    {
     "name": "stdout",
     "output_type": "stream",
     "text": [
      "40116600\n",
      "34.109375\n"
     ]
    }
   ],
   "source": [
    "t1 = process_time()\n",
    "print(gridTraveler(15,15))\n",
    "t2 = process_time()\n",
    "print(t2 - t1)"
   ]
  },
  {
   "cell_type": "markdown",
   "id": "39000dc6",
   "metadata": {},
   "source": [
    "We can see that for a modestly large input it takes a long time, 30ish seconds\n",
    "\n",
    "Whats the time complexity? The input is 2 unlike before. n,m.\n",
    "We can see if we draw out the grid, that our max depth is n+m-1.\n",
    "the branching factor is 2, although not all nodes branch, we can simplfy and say the $2^{n+m}$\n",
    "\n",
    "Space complexity is still the same as depth of tree or $O(n+m)$\n",
    "\n",
    "What can we do to improve?\n",
    "\n",
    "same as the memoization from fib"
   ]
  },
  {
   "cell_type": "code",
   "execution_count": 9,
   "id": "3e4296a5",
   "metadata": {},
   "outputs": [
    {
     "name": "stdout",
     "output_type": "stream",
     "text": [
      "1\n",
      "3\n",
      "3\n",
      "6\n",
      "2333606220\n"
     ]
    }
   ],
   "source": [
    "def gridTraveler2(m,n, mem={}):\n",
    "    # mem logic\n",
    "    key = str(m)+\",\"+str(n)\n",
    "    if key in mem:\n",
    "        return mem[key]\n",
    "    if m == 0 or n == 0:\n",
    "        return 0\n",
    "    elif m == 1 or n == 1:\n",
    "        return 1\n",
    "    else:\n",
    "        keySubM = str(m-1)+\",\"+str(n)\n",
    "        keySubN = str(m)+\",\"+str(n-1)\n",
    "        mem[keySubN] = gridTraveler2(m,n-1, mem)\n",
    "        mem[keySubM] = gridTraveler2(m-1,n, mem)\n",
    "        mem[key] = mem[keySubN] + mem[keySubM]\n",
    "        return mem[key]\n",
    "\n",
    "\n",
    "print(gridTraveler2(1,1))\n",
    "print(gridTraveler2(2,3))\n",
    "print(gridTraveler2(3,2))\n",
    "print(gridTraveler2(3,3))\n",
    "print(gridTraveler2(18,18))"
   ]
  },
  {
   "cell_type": "code",
   "execution_count": 10,
   "id": "95adf5a4",
   "metadata": {},
   "outputs": [
    {
     "name": "stdout",
     "output_type": "stream",
     "text": [
      "40116600\n",
      "0.0\n"
     ]
    }
   ],
   "source": [
    "t1 = process_time()\n",
    "print(gridTraveler2(15,15))\n",
    "t2 = process_time()\n",
    "print(t2 - t1)"
   ]
  },
  {
   "cell_type": "markdown",
   "id": "bb463192",
   "metadata": {},
   "source": [
    "You can see the improvement in speed\n",
    "\n",
    "whats the time and space complexity?\n",
    "\n",
    "If you look at it from a graph perspective, the total amount of nodes is at most m * n, or O(m * n) since each is memoized the first instance its encountered. The space complexity is m+n the max depth of the root node."
   ]
  },
  {
   "cell_type": "markdown",
   "id": "84783ca8",
   "metadata": {},
   "source": [
    "#### Key take away so far\n",
    "\n",
    "Think of the problem in a tree structure, try to frame in term of subproblem that needs to be solved.\n",
    "We solve these by recurssion and memoizing the repeting subproblems.\n",
    "\n",
    "\n",
    "#### Memoization Recipe\n",
    " - Come up with a solutiuon\n",
    "     - visualize the problem as a tree\n",
    "     - impliment the tree using recurssion\n",
    "         - base case\n",
    "         - resurvise cases\n",
    "     - test it\n",
    "  \n",
    " - make it efficent\n",
    "     - add a memo object\n",
    "         - keys function input\n",
    "         - value, solution to the input\n",
    "     - add a return for memo value\n",
    "     - store return values into the memo\n"
   ]
  },
  {
   "cell_type": "markdown",
   "id": "de108671",
   "metadata": {},
   "source": [
    "### canSum\n",
    "\n",
    "function canSum(target, numbers)\n",
    "   - takes in a target and array of numbers as arguments\n",
    "   - the function should return a boolian indicating whewather or not it is possible to generate the target sum using the numbers from the array\n",
    "   - we can use the input as many times as we want\n",
    "   - we can assume the inputs are non-negitive\n",
    "\n",
    "Examples:\n",
    "   - canSum(7,[5,3,4,7]) -> true\n",
    "       - 7 can sum to 7\n",
    "       - 4,3 can sum to 7\n",
    "   - canSum(7,[2,4]) -> false\n",
    "       - these numbers can't sum to 7\n",
    "\n",
    "How can we frame it as a tree with recursive subproblems?\n",
    "\n",
    "For each in numbers we can subtract the target by the number and call canSum on the remainder\n",
    "The base cases are if target - n in numbers is 0, then its true else target less than 0 its false\n"
   ]
  },
  {
   "cell_type": "code",
   "execution_count": 11,
   "id": "7d99fbf9",
   "metadata": {},
   "outputs": [
    {
     "name": "stdout",
     "output_type": "stream",
     "text": [
      "True\n",
      "True\n",
      "False\n",
      "True\n"
     ]
    }
   ],
   "source": [
    "# inputs are non-negitive\n",
    "def canSum(target, numbers):\n",
    "    # Even if the starting case is 0, should return true\n",
    "    # summing 0 elements in numbers = 0\n",
    "    if target == 0:\n",
    "        return True\n",
    "    for n in numbers:\n",
    "        rem = target - n\n",
    "        if rem >= 0:\n",
    "            res = canSum(rem, numbers)\n",
    "            if res == True:\n",
    "                return True\n",
    "    return False\n",
    "\n",
    "\n",
    "print(canSum(7,[2,3]))\n",
    "print(canSum(7,[5,3,4,7]))\n",
    "print(canSum(7,[2,4]))\n",
    "print(canSum(8,[2,3,5]))"
   ]
  },
  {
   "cell_type": "code",
   "execution_count": 12,
   "id": "eb2747de",
   "metadata": {},
   "outputs": [
    {
     "name": "stdout",
     "output_type": "stream",
     "text": [
      "False\n",
      "260.953125\n"
     ]
    }
   ],
   "source": [
    "t1 = process_time()\n",
    "print(canSum(300,[7,14]))\n",
    "t2 = process_time()\n",
    "print(t2 - t1)"
   ]
  },
  {
   "cell_type": "markdown",
   "id": "97fc6873",
   "metadata": {},
   "source": [
    "#### Complexity\n",
    "\n",
    "canSum(8,[2,3,5]) as a graph\n",
    "\n",
    "                                    (8) // root\n",
    "                       (6)          (5)         (3)\n",
    "                   (4) (3) (1)  (3) (2) (0)   (1) (0)\n",
    "                (2)(1) (1)(0) (1)(0) (0)\n",
    "\n",
    "\n",
    "Note : Fairly large tree for relativly small input.\n",
    "\n",
    "What are the inputs\n",
    "- m = target sum\n",
    "- n = numbers array legth\n",
    "- these two are affecting our tree, root depth is max m, branching factor is n\n",
    "- Naive recursive worst case time complexity is O ($m^{n}$)\n",
    "- as always the space complexity is the max depth or O ($m$)\n",
    "\n",
    "\n",
    "How can we memoize this problem?\n",
    "- We can see from the canSum graph above that the input 3 is repeted multiple times\n",
    "    - we can cache it in a memo object"
   ]
  },
  {
   "cell_type": "code",
   "execution_count": 13,
   "id": "ab60675f",
   "metadata": {},
   "outputs": [
    {
     "name": "stdout",
     "output_type": "stream",
     "text": [
      "True\n",
      "True\n",
      "False\n",
      "True\n"
     ]
    }
   ],
   "source": [
    "# inputs are non-negitive\n",
    "def canSum2(target, numbers, mem={}):\n",
    "    # Even if the starting case is 0, should return true\n",
    "    # summing 0 elements in numbers = 0\n",
    "    #print(\"------\\n\", target, mem)\n",
    "    if target in mem:\n",
    "        return mem[target]\n",
    "    if target == 0:\n",
    "        return True\n",
    "    if  target < 0:\n",
    "        return False\n",
    "    \n",
    "    for n in numbers:\n",
    "        rem = target - n\n",
    "        mem[rem] = canSum2(rem, numbers, mem)\n",
    "        if mem[rem] == True:\n",
    "            return True\n",
    "    \n",
    "    return False\n",
    "\n",
    "\n",
    "print(canSum2(7,[2,3], {}))\n",
    "print(canSum2(7,[5,3,4,7], {}))\n",
    "print(canSum2(7,[2,4], {}))\n",
    "print(canSum2(8,[2,3,5], {}))"
   ]
  },
  {
   "cell_type": "code",
   "execution_count": 14,
   "id": "a8a1259e",
   "metadata": {},
   "outputs": [
    {
     "name": "stdout",
     "output_type": "stream",
     "text": [
      "False\n",
      "0.0\n"
     ]
    }
   ],
   "source": [
    "t1 = process_time()\n",
    "print(canSum2(300,[7,14], {}))\n",
    "t2 = process_time()\n",
    "print(t2 - t1)"
   ]
  },
  {
   "cell_type": "markdown",
   "id": "431763a5",
   "metadata": {},
   "source": [
    "The improved time complexity is now $O(m*n)$ like in gridTraveler\n",
    "\n",
    "The space complexity is still the same $O(m)$\n"
   ]
  },
  {
   "cell_type": "markdown",
   "id": "4a19dec8",
   "metadata": {},
   "source": [
    "### howSum\n",
    "This problem is very simmilar, but instead of returning if it can sum, we now return the numbers that sum to the target\n",
    "   - If there is no set that can sum to it, return an Null\n",
    "       - example howSum(0,[1,2,3]) -> None\n",
    "   - If there is one or more, return one array that sums to it\n",
    "       - example howSum(7, [5,3,4,7]) -> [7] (there are other solutions)"
   ]
  },
  {
   "cell_type": "code",
   "execution_count": 46,
   "id": "d2a64f18",
   "metadata": {},
   "outputs": [
    {
     "name": "stdout",
     "output_type": "stream",
     "text": [
      "7 [3, 2, 2]\n",
      "7 [4, 3]\n",
      "7 None\n",
      "8 [2, 2, 2, 2]\n"
     ]
    }
   ],
   "source": [
    "# inputs are non-negitive\n",
    "def howSum(target, numbers):\n",
    "    # Even if the starting case is 0, should return true\n",
    "    # summing 0 elements in numbers = 0\n",
    "    if target < 0:\n",
    "        return None\n",
    "    if target == 0:\n",
    "        return []\n",
    "    for n in numbers:\n",
    "        rem = target - n\n",
    "        #print(target, n, rem)\n",
    "        res = howSum(rem, numbers)\n",
    "        #print(res)\n",
    "        if not res == None:\n",
    "            return res + [n]\n",
    "    return None\n",
    "\n",
    "\n",
    "print(7, howSum(7,[2,3]))\n",
    "print(7, howSum(7,[5,3,4,7]))\n",
    "print(7, howSum(7,[2,4]))\n",
    "print(8, howSum(8,[2,3,5]))"
   ]
  },
  {
   "cell_type": "code",
   "execution_count": 50,
   "id": "16b54247",
   "metadata": {},
   "outputs": [
    {
     "name": "stdout",
     "output_type": "stream",
     "text": [
      "None\n",
      "11.625\n"
     ]
    }
   ],
   "source": [
    "t1 = process_time()\n",
    "print(howSum(250,[7,14]))\n",
    "t2 = process_time()\n",
    "print(t2 - t1)"
   ]
  },
  {
   "cell_type": "code",
   "execution_count": 57,
   "id": "f172f4c7",
   "metadata": {},
   "outputs": [
    {
     "name": "stdout",
     "output_type": "stream",
     "text": [
      "None\n",
      "0.0\n",
      "7 [2, 2, 3]\n",
      "7 [2, 5]\n",
      "7 None\n",
      "8 [2, 2, 2, 2]\n"
     ]
    }
   ],
   "source": [
    "# memoized\n",
    "def howSum2(target, numbers, mem={}):\n",
    "    # Even if the starting case is 0, should return true\n",
    "    # summing 0 elements in numbers = 0\n",
    "    if target in mem:\n",
    "        return mem[target]\n",
    "    if target < 0:\n",
    "        return None\n",
    "    if target == 0:\n",
    "        return []\n",
    "    for n in numbers:\n",
    "        rem = target - n\n",
    "        #print(target, n, rem)\n",
    "        mem[rem] = howSum2(rem, numbers)\n",
    "        #print(res)\n",
    "        if not mem[rem] == None:\n",
    "            return mem[rem] + [n]\n",
    "    return None\n",
    "\n",
    "t1 = process_time()\n",
    "print(howSum2(250,[7,14]))\n",
    "t2 = process_time()\n",
    "print(t2 - t1)\n",
    "print(7, howSum2(7,[2,3]))\n",
    "print(7, howSum2(7,[5,3,4,7]))\n",
    "print(7, howSum2(7,[2,4]))\n",
    "print(8, howSum2(8,[2,3,5]))"
   ]
  },
  {
   "cell_type": "markdown",
   "id": "912daaac",
   "metadata": {},
   "source": [
    "#### complexity for howSum\n",
    "\n",
    "These are pretty much the same as canSum, just a more complex example.\n",
    "\n",
    "*NOTE*: In the video the complexity changes due to copying over array, it's simpler to add the arrays in python. From what I understand it shouldn't add much complexity (in terms of Big O) since nothing is copied over. \n",
    "\n",
    "Just note the speed improvement in the memoized version"
   ]
  },
  {
   "cell_type": "code",
   "execution_count": null,
   "id": "90076915",
   "metadata": {},
   "outputs": [],
   "source": []
  },
  {
   "cell_type": "code",
   "execution_count": null,
   "id": "5cae85b6",
   "metadata": {},
   "outputs": [],
   "source": []
  },
  {
   "cell_type": "code",
   "execution_count": null,
   "id": "f1ce88d5",
   "metadata": {},
   "outputs": [],
   "source": []
  },
  {
   "cell_type": "markdown",
   "id": "2ce72a79",
   "metadata": {},
   "source": [
    "## 2. Tabulation"
   ]
  }
 ],
 "metadata": {
  "kernelspec": {
   "display_name": "Python 3",
   "language": "python",
   "name": "python3"
  },
  "language_info": {
   "codemirror_mode": {
    "name": "ipython",
    "version": 3
   },
   "file_extension": ".py",
   "mimetype": "text/x-python",
   "name": "python",
   "nbconvert_exporter": "python",
   "pygments_lexer": "ipython3",
   "version": "3.8.8"
  }
 },
 "nbformat": 4,
 "nbformat_minor": 5
}
